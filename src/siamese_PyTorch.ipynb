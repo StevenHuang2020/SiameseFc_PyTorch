{
  "nbformat": 4,
  "nbformat_minor": 0,
  "metadata": {
    "accelerator": "GPU",
    "colab": {
      "name": "siamese_PyTorch",
      "provenance": [],
      "collapsed_sections": []
    },
    "kernelspec": {
      "display_name": "Python 3",
      "name": "python3"
    }
  },
  "cells": [
    {
      "cell_type": "markdown",
      "metadata": {
        "id": "q3nt6674TqKm"
      },
      "source": [
        "# SiameseNet PyTorch for Object tracking"
      ]
    },
    {
      "cell_type": "code",
      "metadata": {
        "id": "AjHB74ksT1HO"
      },
      "source": [
        "from google.colab import drive\n",
        "drive.mount('/content/drive')"
      ],
      "execution_count": null,
      "outputs": []
    },
    {
      "cell_type": "code",
      "metadata": {
        "id": "7K3QkAKKKNz1"
      },
      "source": [
        "%cd /content/drive/MyDrive/siamfc-pytorch-master\n",
        "!ls -la "
      ],
      "execution_count": null,
      "outputs": []
    },
    {
      "cell_type": "markdown",
      "metadata": {
        "id": "G7H_J6GBHtB-"
      },
      "source": [
        "Predict"
      ]
    },
    {
      "cell_type": "code",
      "metadata": {
        "id": "NOJB-a6XHy8S"
      },
      "source": [
        "!pip install torchviz"
      ],
      "execution_count": null,
      "outputs": []
    },
    {
      "cell_type": "code",
      "metadata": {
        "id": "0t6PzMUDHsxG"
      },
      "source": [
        "!python ./predict.py r_pos=5"
      ],
      "execution_count": null,
      "outputs": []
    },
    {
      "cell_type": "markdown",
      "metadata": {
        "id": "niznTe6ZJBSo"
      },
      "source": [
        "Start to training"
      ]
    },
    {
      "cell_type": "code",
      "metadata": {
        "id": "dqUqY8qH6BTQ"
      },
      "source": [
        "!pip install got10k"
      ],
      "execution_count": null,
      "outputs": []
    },
    {
      "cell_type": "code",
      "metadata": {
        "id": "TYmZbGiKL6de"
      },
      "source": [
        "!pip show torch"
      ],
      "execution_count": null,
      "outputs": []
    },
    {
      "cell_type": "markdown",
      "metadata": {
        "id": "McYF4o7xDwTZ"
      },
      "source": [
        "Traning alexnet"
      ]
    },
    {
      "cell_type": "code",
      "metadata": {
        "id": "V-zYBJLzKEYC"
      },
      "source": [
        "!python ./train.py epoch_num=10"
      ],
      "execution_count": 65,
      "outputs": []
    },
    {
      "cell_type": "code",
      "metadata": {
        "id": "yCBO_h_waekY"
      },
      "source": [
        "!python ./train.py initial_lr=1e-10 ultimate_lr=1e-12 epoch_num=10"
      ],
      "execution_count": null,
      "outputs": []
    },
    {
      "cell_type": "code",
      "metadata": {
        "id": "1A2Vv3Gp_FAU"
      },
      "source": [
        "!python ./train_continue.py epoch_num=10 initial_lr=1e-8 ultimate_lr=1e-14"
      ],
      "execution_count": null,
      "outputs": []
    },
    {
      "cell_type": "code",
      "metadata": {
        "id": "P-5FZ6eaeSEV"
      },
      "source": [
        "!python ./train_continue.py epoch_num=100 initial_lr=1e-12 ultimate_lr=1e-14"
      ],
      "execution_count": null,
      "outputs": []
    },
    {
      "cell_type": "markdown",
      "metadata": {
        "id": "iCFkPXfADb06"
      },
      "source": [
        "Train mobile/vgg net"
      ]
    },
    {
      "cell_type": "code",
      "metadata": {
        "id": "XnaXKOYK-ACm"
      },
      "source": [
        "!python ./train.py epoch_num=10 r_pos=5"
      ],
      "execution_count": null,
      "outputs": []
    },
    {
      "cell_type": "code",
      "metadata": {
        "id": "0m2jDdw7Cd-L"
      },
      "source": [
        "!python ./train_continue.py r_pos=5 epoch_num=50"
      ],
      "execution_count": null,
      "outputs": []
    },
    {
      "cell_type": "code",
      "metadata": {
        "id": "j2Cdvh_zLMGm"
      },
      "source": [
        "!python ./train_continue.py epoch_num=200 r_pos=5 initial_lr=1e-5 ultimate_lr=1e-8"
      ],
      "execution_count": null,
      "outputs": []
    }
  ]
}